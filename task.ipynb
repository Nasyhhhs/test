{
 "cells": [
  {
   "cell_type": "code",
   "execution_count": 1,
   "id": "1df156ab-de16-4bb4-9d60-e0d67f904cb7",
   "metadata": {},
   "outputs": [],
   "source": [
    "import pydicom\n",
    "from pydicom.data import get_testdata_file\n",
    "import os\n",
    "import pandas as pd"
   ]
  },
  {
   "cell_type": "code",
   "execution_count": null,
   "id": "a580117b-24da-4f53-9968-76c98c47bee0",
   "metadata": {},
   "outputs": [
    {
     "name": "stdout",
     "output_type": "stream",
     "text": [
      "1710 10 10\n"
     ]
    }
   ],
   "source": [
    "#проверка, сколько в итоге должно быть папок, подпапок и файлов\n",
    "s1=[]\n",
    "s11=[]\n",
    "names=[]\n",
    "\n",
    "for file in os.listdir('src/'):\n",
    "    \n",
    "    ds = pydicom.dcmread('src/' + file)\n",
    "    \n",
    "    directory_1 = ds.StudyInstanceUID\n",
    "    s1.append(directory_1)\n",
    "    \n",
    "        \n",
    "    directory_11 = ds.SeriesInstanceUID\n",
    "    s11.append(directory_11)\n",
    "    \n",
    "    \n",
    "    name = ds.SOPInstanceUID  \n",
    "    names.append(name)\n",
    "    \n",
    "print(len(set(names)), len(set(s1)), len(set(s11)))\n",
    "\n",
    "\n",
    "\n",
    "     # должно в итоге быть ==  1710 \n",
    "    "
   ]
  },
  {
   "cell_type": "code",
   "execution_count": 11,
   "id": "6553f7a7",
   "metadata": {},
   "outputs": [
    {
     "data": {
      "text/html": [
       "<div>\n",
       "<style scoped>\n",
       "    .dataframe tbody tr th:only-of-type {\n",
       "        vertical-align: middle;\n",
       "    }\n",
       "\n",
       "    .dataframe tbody tr th {\n",
       "        vertical-align: top;\n",
       "    }\n",
       "\n",
       "    .dataframe thead th {\n",
       "        text-align: right;\n",
       "    }\n",
       "</style>\n",
       "<table border=\"1\" class=\"dataframe\">\n",
       "  <thead>\n",
       "    <tr style=\"text-align: right;\">\n",
       "      <th></th>\n",
       "      <th>ex_name</th>\n",
       "      <th>new_path</th>\n",
       "    </tr>\n",
       "  </thead>\n",
       "  <tbody>\n",
       "  </tbody>\n",
       "</table>\n",
       "</div>"
      ],
      "text/plain": [
       "Empty DataFrame\n",
       "Columns: [ex_name, new_path]\n",
       "Index: []"
      ]
     },
     "execution_count": 11,
     "metadata": {},
     "output_type": "execute_result"
    }
   ],
   "source": [
    "df"
   ]
  },
  {
   "cell_type": "code",
   "execution_count": 39,
   "id": "11775794-7100-4cfa-ab5c-9c0e4595df04",
   "metadata": {
    "tags": []
   },
   "outputs": [],
   "source": [
    "#пустой список для соотвествий старых имен\\путей\n",
    "df = []\n",
    "counter = 0  #завожу счетчики, чтобы проверить, что число записанных файлов совпадает с изначальным\n",
    "os.mkdir(\"task\")\n",
    "parent_dir = \"task\"\n",
    "\n",
    "#Теперь все поместим в цикл\n",
    "for i, file in enumerate(os.listdir('src/')):\n",
    "    tmp = {} \n",
    "\n",
    "    ds = pydicom.dcmread('src/' + file)\n",
    "    if ds.get('PatientName'):   #удаляем имя, если оно есть по ключу\n",
    "        del ds.PatientName\n",
    "    \n",
    "    directory_1 = ds.StudyInstanceUID\n",
    "    path = os.path.join(parent_dir, directory_1)\n",
    "    try:\n",
    "        os.mkdir(path)\n",
    "\n",
    "    except FileExistsError:\n",
    "        pass\n",
    "        \n",
    "    directory_11 = ds.SeriesInstanceUID\n",
    "    path = os.path.join(path, directory_11)\n",
    "    try:\n",
    "        os.mkdir(path)\n",
    "         \n",
    "    except FileExistsError:\n",
    "        pass\n",
    "    \n",
    "    name = ds.SOPInstanceUID\n",
    "    new_path = path + '/' + name + '.dcm'\n",
    "    pydicom.filewriter.dcmwrite(new_path, ds,  True)\n",
    "    \n",
    "    tmp['ex_name'] = file\n",
    "    tmp['new_path'] =  directory_1 + '/' +  directory_11 + '/' + name + '.dcm'\n",
    "    counter+=1\n",
    "    df.append(tmp)  \n",
    "    "
   ]
  },
  {
   "cell_type": "code",
   "execution_count": 41,
   "id": "c3016403-4f60-439d-8ba8-bddb7b267bb8",
   "metadata": {},
   "outputs": [
    {
     "data": {
      "text/html": [
       "<div>\n",
       "<style scoped>\n",
       "    .dataframe tbody tr th:only-of-type {\n",
       "        vertical-align: middle;\n",
       "    }\n",
       "\n",
       "    .dataframe tbody tr th {\n",
       "        vertical-align: top;\n",
       "    }\n",
       "\n",
       "    .dataframe thead th {\n",
       "        text-align: right;\n",
       "    }\n",
       "</style>\n",
       "<table border=\"1\" class=\"dataframe\">\n",
       "  <thead>\n",
       "    <tr style=\"text-align: right;\">\n",
       "      <th></th>\n",
       "      <th>ex_name</th>\n",
       "      <th>new_path</th>\n",
       "    </tr>\n",
       "  </thead>\n",
       "  <tbody>\n",
       "    <tr>\n",
       "      <th>0</th>\n",
       "      <td>0011a95eb8cf73aee3e44170a2459393.dcm</td>\n",
       "      <td>2.25.12959879976443571621843145901999710656652...</td>\n",
       "    </tr>\n",
       "    <tr>\n",
       "      <th>1</th>\n",
       "      <td>002b950106f7054b5241bc5473f674c1.dcm</td>\n",
       "      <td>2.25.10321985092426727495085036766200110321088...</td>\n",
       "    </tr>\n",
       "    <tr>\n",
       "      <th>2</th>\n",
       "      <td>0036706db3a56d884bd5f4f9e91f4e44.dcm</td>\n",
       "      <td>2.25.13148394979245937484165594540025668927189...</td>\n",
       "    </tr>\n",
       "    <tr>\n",
       "      <th>3</th>\n",
       "      <td>003b0f5ec343857023216e3e9dbfceec.dcm</td>\n",
       "      <td>2.25.35193188203745815244910362565296784033634...</td>\n",
       "    </tr>\n",
       "    <tr>\n",
       "      <th>4</th>\n",
       "      <td>006fa39deb7fcdcb0a8e86f62a7dfaae.dcm</td>\n",
       "      <td>2.25.12959879976443571621843145901999710656652...</td>\n",
       "    </tr>\n",
       "    <tr>\n",
       "      <th>...</th>\n",
       "      <td>...</td>\n",
       "      <td>...</td>\n",
       "    </tr>\n",
       "    <tr>\n",
       "      <th>1705</th>\n",
       "      <td>fe3adaf6dd4cc37492ed4137dffe0699.dcm</td>\n",
       "      <td>2.25.35193188203745815244910362565296784033634...</td>\n",
       "    </tr>\n",
       "    <tr>\n",
       "      <th>1706</th>\n",
       "      <td>fe44bec7dd3d5ca2b820c9f4dea27b4e.dcm</td>\n",
       "      <td>2.25.10321985092426727495085036766200110321088...</td>\n",
       "    </tr>\n",
       "    <tr>\n",
       "      <th>1707</th>\n",
       "      <td>fee94252af551f86e9b18536133de6c0.dcm</td>\n",
       "      <td>2.25.17062309086576606706587560884681601601915...</td>\n",
       "    </tr>\n",
       "    <tr>\n",
       "      <th>1708</th>\n",
       "      <td>ff349ca2806fa7ef8131f7360ca8f398.dcm</td>\n",
       "      <td>2.25.60662495564633805468505226801786163568539...</td>\n",
       "    </tr>\n",
       "    <tr>\n",
       "      <th>1709</th>\n",
       "      <td>ff89ab5f4909ed524c850b4d62c4242e.dcm</td>\n",
       "      <td>2.25.66234994940093060530875882673593880723182...</td>\n",
       "    </tr>\n",
       "  </tbody>\n",
       "</table>\n",
       "<p>1710 rows × 2 columns</p>\n",
       "</div>"
      ],
      "text/plain": [
       "                                   ex_name  \\\n",
       "0     0011a95eb8cf73aee3e44170a2459393.dcm   \n",
       "1     002b950106f7054b5241bc5473f674c1.dcm   \n",
       "2     0036706db3a56d884bd5f4f9e91f4e44.dcm   \n",
       "3     003b0f5ec343857023216e3e9dbfceec.dcm   \n",
       "4     006fa39deb7fcdcb0a8e86f62a7dfaae.dcm   \n",
       "...                                    ...   \n",
       "1705  fe3adaf6dd4cc37492ed4137dffe0699.dcm   \n",
       "1706  fe44bec7dd3d5ca2b820c9f4dea27b4e.dcm   \n",
       "1707  fee94252af551f86e9b18536133de6c0.dcm   \n",
       "1708  ff349ca2806fa7ef8131f7360ca8f398.dcm   \n",
       "1709  ff89ab5f4909ed524c850b4d62c4242e.dcm   \n",
       "\n",
       "                                               new_path  \n",
       "0     2.25.12959879976443571621843145901999710656652...  \n",
       "1     2.25.10321985092426727495085036766200110321088...  \n",
       "2     2.25.13148394979245937484165594540025668927189...  \n",
       "3     2.25.35193188203745815244910362565296784033634...  \n",
       "4     2.25.12959879976443571621843145901999710656652...  \n",
       "...                                                 ...  \n",
       "1705  2.25.35193188203745815244910362565296784033634...  \n",
       "1706  2.25.10321985092426727495085036766200110321088...  \n",
       "1707  2.25.17062309086576606706587560884681601601915...  \n",
       "1708  2.25.60662495564633805468505226801786163568539...  \n",
       "1709  2.25.66234994940093060530875882673593880723182...  \n",
       "\n",
       "[1710 rows x 2 columns]"
      ]
     },
     "execution_count": 41,
     "metadata": {},
     "output_type": "execute_result"
    }
   ],
   "source": [
    "result = pd.DataFrame(df)\n",
    "result"
   ]
  },
  {
   "cell_type": "code",
   "execution_count": 43,
   "id": "119e2184-53bb-4723-9022-7e764d81066b",
   "metadata": {},
   "outputs": [],
   "source": [
    "result.to_csv('result.csv', index = False, encoding=\"utf-8\")"
   ]
  },
  {
   "cell_type": "code",
   "execution_count": 49,
   "id": "028badda-bdee-41df-89e7-56a70e04a413",
   "metadata": {},
   "outputs": [
    {
     "data": {
      "text/plain": [
       "'2.25.12959879976443571621843145901999710656652277064659217139009/2.25.30788716658081497459531139694673322712892260060074425235891/1.3.6.1.4.1.14519.5.2.1.7009.9004.854101963910256840617826481223.dcm'"
      ]
     },
     "execution_count": 49,
     "metadata": {},
     "output_type": "execute_result"
    }
   ],
   "source": [
    "result.iloc[0].new_path"
   ]
  },
  {
   "cell_type": "code",
   "execution_count": null,
   "id": "7b3f17ac-7b8a-48a8-b987-0455e5f534c2",
   "metadata": {},
   "outputs": [],
   "source": []
  }
 ],
 "metadata": {
  "kernelspec": {
   "display_name": "Python 3 (ipykernel)",
   "language": "python",
   "name": "python3"
  },
  "language_info": {
   "codemirror_mode": {
    "name": "ipython",
    "version": 3
   },
   "file_extension": ".py",
   "mimetype": "text/x-python",
   "name": "python",
   "nbconvert_exporter": "python",
   "pygments_lexer": "ipython3",
   "version": "3.9.7"
  }
 },
 "nbformat": 4,
 "nbformat_minor": 5
}
